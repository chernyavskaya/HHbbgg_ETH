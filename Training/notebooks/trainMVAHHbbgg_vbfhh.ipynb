{
 "cells": [
  {
   "cell_type": "code",
   "execution_count": 96,
   "metadata": {},
   "outputs": [],
   "source": [
    "import os\n",
    "import sys; sys.path.append(\"~/HHbbgg_ETH_devel/Training/python\") # to load packages\n",
    "import training_utils as utils\n",
    "import numpy as np\n",
    "reload(utils)\n",
    "import preprocessing_utils_VBFHH as preprocessing\n",
    "reload(preprocessing)\n",
    "import plotting_utils as plotting\n",
    "reload(plotting)\n",
    "import optimization_utils as optimization\n",
    "reload(optimization)\n",
    "import postprocessing_utils as postprocessing\n",
    "reload(postprocessing)\n",
    "import pandas as pd\n",
    "import root_pandas as rpd\n",
    "import matplotlib.pyplot as plt\n",
    "import json"
   ]
  },
  {
   "cell_type": "code",
   "execution_count": null,
   "metadata": {},
   "outputs": [],
   "source": []
  },
  {
   "cell_type": "code",
   "execution_count": 97,
   "metadata": {},
   "outputs": [],
   "source": [
    "year='2018'\n",
    "\n",
    "year_dict = {}\n",
    "year_dict['2018'] = 2\n",
    "year_dict['2017'] = 1\n",
    "year_dict['2016'] = 0\n",
    "\n",
    "ntuples = 'vbfhh/'\n",
    "\n",
    "couplings = 'CV_1_C2V_1_C3_1,CV_1_C2V_2_C3_1,CV_1_C2V_1_C3_2,CV_1_C2V_1_C3_0,CV_0_5_C2V_1_C3_1,CV_1_5_C2V_1_C3_1'.split(',') ### THE ORDER IS EXTREMELY IMPRORTANT, DO NOT CHANGE\n",
    "signal = []\n",
    "for coup in couplings :\n",
    "    signal.append('output_VBFHHTo2B2G_%s_TuneCP5_PSWeights_13TeV-madgraph-pythia8.root'%coup)\n",
    "signal_name = 'vbfhh%s_13TeV_125_13TeV_VBFDoubleHTag_0'%year\n",
    "    \n",
    "utils.IO.reweightVBFHH = True\n",
    "utils.IO.vbfhh_cv = [1.]  \n",
    "utils.IO.vbfhh_c2v = [2.]\n",
    "utils.IO.vbfhh_kl = [1.]\n",
    "for sig in signal:\n",
    "    utils.IO.add_signal(ntuples,sig,1,'tagsDumper/trees/%s'%signal_name,year_dict[year])\n"
   ]
  },
  {
   "cell_type": "code",
   "execution_count": null,
   "metadata": {},
   "outputs": [],
   "source": []
  },
  {
   "cell_type": "markdown",
   "metadata": {},
   "source": [
    "## Folder name where to store output for a specific training"
   ]
  },
  {
   "cell_type": "code",
   "execution_count": 98,
   "metadata": {},
   "outputs": [],
   "source": [
    "labels=[]\n",
    "outstr = \"16_04_2020_vbfhh_%s\"%year\n",
    "labels.append(outstr)\n",
    "utils.IO.plotFolder = '/mnt/t3nfs01/data01/shome/nchernya/HHbbgg_ETH_devel/Training/plots/%s/'%outstr\n",
    "if not os.path.exists(utils.IO.plotFolder):\n",
    "    print utils.IO.plotFolder, \"doesn't exist, creating it...\"\n",
    "    os.makedirs(utils.IO.plotFolder)"
   ]
  },
  {
   "cell_type": "code",
   "execution_count": null,
   "metadata": {},
   "outputs": [],
   "source": []
  },
  {
   "cell_type": "code",
   "execution_count": 99,
   "metadata": {
    "scrolled": false
   },
   "outputs": [
    {
     "name": "stdout",
     "output_type": "stream",
     "text": [
      "True\n",
      "using tree:tagsDumper/trees/vbfhh2018_13TeV_125_13TeV_VBFDoubleHTag_0\n",
      "using tree:tagsDumper/trees/vbfhh2018_13TeV_125_13TeV_VBFDoubleHTag_0\n",
      "using tree:tagsDumper/trees/vbfhh2018_13TeV_125_13TeV_VBFDoubleHTag_0\n",
      "using tree:tagsDumper/trees/vbfhh2018_13TeV_125_13TeV_VBFDoubleHTag_0\n",
      "using tree:tagsDumper/trees/vbfhh2018_13TeV_125_13TeV_VBFDoubleHTag_0\n",
      "using tree:tagsDumper/trees/vbfhh2018_13TeV_125_13TeV_VBFDoubleHTag_0\n"
     ]
    }
   ],
   "source": [
    "from ROOT import TLorentzVector\n",
    "\n",
    "branch_names = 'event,weight,genMhh,MX'.split(',')\n",
    "print utils.IO.reweightVBFHH\n",
    "cuts='MX>0'\n",
    "preprocessing.set_signals(branch_names,True,cuts)\n"
   ]
  },
  {
   "cell_type": "code",
   "execution_count": 100,
   "metadata": {},
   "outputs": [
    {
     "data": {
      "image/png": "[encoded data removed]",
      "text/plain": [
       "<Figure size 432x288 with 1 Axes>"
      ]
     },
     "metadata": {
      "needs_background": "light"
     },
     "output_type": "display_data"
    }
   ],
   "source": [
    "n, bins, patches = plt.hist(utils.IO.signal_df[0]['genMhh'], np.linspace(0,2500,25), facecolor='b',weights=utils.IO.signal_df[0]['weight'], alpha=0.5,normed=False,label='C2V=2')\n",
    "plt.xlabel('gen M(HH) [GeV]')\n",
    "plt.ylabel('A.U.')\n",
    "plt.legend(loc = 'upper right')\n",
    "plt.show()\n",
    "    "
   ]
  },
  {
   "cell_type": "markdown",
   "metadata": {},
   "source": []
  }
 ],
 "metadata": {
  "anaconda-cloud": {},
  "kernelspec": {
   "display_name": "Python 2",
   "language": "python",
   "name": "python2"
  },
  "language_info": {
   "codemirror_mode": {
    "name": "ipython",
    "version": 2
   },
   "file_extension": ".py",
   "mimetype": "text/x-python",
   "name": "python",
   "nbconvert_exporter": "python",
   "pygments_lexer": "ipython2",
   "version": "2.7.16"
  }
 },
 "nbformat": 4,
 "nbformat_minor": 1
}
